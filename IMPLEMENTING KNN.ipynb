{
 "cells": [
  {
   "cell_type": "code",
   "execution_count": 1,
   "metadata": {},
   "outputs": [],
   "source": [
    "from sklearn import datasets\n",
    "from sklearn.metrics import accuracy_score\n",
    "from sklearn.model_selection import train_test_split , cross_val_score , KFold\n",
    "from collections import Counter\n",
    "from sklearn.neighbors import KNeighborsClassifier\n",
    "from sklearn.model_selection import cross_val_score\n",
    "from sklearn.model_selection import KFold"
   ]
  },
  {
   "cell_type": "code",
   "execution_count": 2,
   "metadata": {},
   "outputs": [],
   "source": [
    "#IMPLEMENTING KNN ALGORITHM AVAILABLE IN SKLEARN\n",
    "\n",
    "dataset = datasets.load_breast_cancer()\n",
    "X_train  , X_test , Y_train , Y_test = train_test_split(dataset.data , dataset.target , random_state = 12244)"
   ]
  },
  {
   "cell_type": "code",
   "execution_count": 3,
   "metadata": {},
   "outputs": [
    {
     "data": {
      "text/plain": [
       "KNeighborsClassifier(algorithm='auto', leaf_size=30, metric='minkowski',\n",
       "           metric_params=None, n_jobs=1, n_neighbors=5, p=2,\n",
       "           weights='uniform')"
      ]
     },
     "execution_count": 3,
     "metadata": {},
     "output_type": "execute_result"
    }
   ],
   "source": [
    "clf = KNeighborsClassifier()\n",
    "clf.fit(X_train , Y_train)"
   ]
  },
  {
   "cell_type": "code",
   "execution_count": 4,
   "metadata": {},
   "outputs": [
    {
     "data": {
      "text/plain": [
       "0.916083916083916"
      ]
     },
     "execution_count": 4,
     "metadata": {},
     "output_type": "execute_result"
    }
   ],
   "source": [
    "#accuracy of inbuilt algo\n",
    "clf.score(X_test , Y_test)"
   ]
  },
  {
   "cell_type": "code",
   "execution_count": 5,
   "metadata": {},
   "outputs": [
    {
     "data": {
      "text/plain": [
       "array([0.93023256, 0.90588235, 0.95294118, 0.96470588, 0.90588235])"
      ]
     },
     "execution_count": 5,
     "metadata": {},
     "output_type": "execute_result"
    }
   ],
   "source": [
    "# FINDING THE BEST VALUE FOR K\n",
    "cross_val_score(clf , X_train , Y_train , cv = KFold(5, shuffle = True , random_state = 12224))"
   ]
  },
  {
   "cell_type": "code",
   "execution_count": 6,
   "metadata": {},
   "outputs": [],
   "source": [
    "# appending values after cross validation\n",
    "X_axis = []\n",
    "Y_axis = []\n",
    "for i in range(1, 26 , 2):\n",
    "    clf = KNeighborsClassifier(n_neighbors = i)\n",
    "    scr = cross_val_score(clf , X_train , Y_train , cv = KFold(random_state = 12244))\n",
    "    X_axis.append(i)\n",
    "    Y_axis.append(scr.mean())"
   ]
  },
  {
   "cell_type": "code",
   "execution_count": 10,
   "metadata": {},
   "outputs": [
    {
     "data": {
      "image/png": "[encoded data removed]",
      "text/plain": [
       "<Figure size 432x288 with 1 Axes>"
      ]
     },
     "metadata": {},
     "output_type": "display_data"
    }
   ],
   "source": [
    "#graphing to determine more losely the optimal value for K\n",
    "import matplotlib.pyplot as plt\n",
    "plt.plot(X_axis , Y_axis)\n",
    "plt.show()\n",
    "#optimal value seems to be 3"
   ]
  },
  {
   "cell_type": "code",
   "execution_count": 8,
   "metadata": {},
   "outputs": [],
   "source": [
    "#KNN FROM SCRATCH\n",
    "\n",
    "def train(X_train , Y_train):\n",
    "    return\n",
    "\n",
    "# PREDICT FUNCTION FOR SINGLE POINT\n",
    "def predict_for_one_point(x_train , y_train , x_test , k):\n",
    "    distances = []\n",
    "    for i in range(len(x_train)):\n",
    "        distance = ((x_train[i, :] - x_test)**2).sum()\n",
    "        distances.append([distance , i])\n",
    "    distances = sorted(distances)\n",
    "    targets = []\n",
    "    for i in range(k):\n",
    "        index_of_training_data = distances[i][1]\n",
    "        targets.append(y_train[index_of_training_data])\n",
    "    return Counter(targets).most_common(1)[0][0]\n",
    "\n",
    "#THE PREDICT FUNCTION\n",
    "\n",
    "def predict(x_train , y_train , x_test , k):\n",
    "    pred = []\n",
    "    for x in x_test:\n",
    "        pred.append(predict_for_one_point(x_train , y_train , x , k))\n",
    "    return pred"
   ]
  },
  {
   "cell_type": "code",
   "execution_count": 9,
   "metadata": {},
   "outputs": [
    {
     "data": {
      "text/plain": [
       "0.9020979020979021"
      ]
     },
     "execution_count": 9,
     "metadata": {},
     "output_type": "execute_result"
    }
   ],
   "source": [
    "# FINDING ACCURACY\n",
    "Y_pred = predict(X_train , Y_train , X_test , 3)\n",
    "#accuracy of our algo\n",
    "accuracy_score(Y_pred , Y_test)"
   ]
  }
 ],
 "metadata": {
  "kernelspec": {
   "display_name": "Python 3",
   "language": "python",
   "name": "python3"
  },
  "language_info": {
   "codemirror_mode": {
    "name": "ipython",
    "version": 3
   },
   "file_extension": ".py",
   "mimetype": "text/x-python",
   "name": "python",
   "nbconvert_exporter": "python",
   "pygments_lexer": "ipython3",
   "version": "3.6.5"
  }
 },
 "nbformat": 4,
 "nbformat_minor": 2
}
